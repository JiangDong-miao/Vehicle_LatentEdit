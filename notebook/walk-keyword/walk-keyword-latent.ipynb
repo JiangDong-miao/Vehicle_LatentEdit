{
 "cells": [
  {
   "cell_type": "code",
   "execution_count": 1,
   "metadata": {},
   "outputs": [],
   "source": [
    "import os\n",
    "import sys\n",
    "import pickle\n",
    "import numpy as np\n",
    "import pandas as pd\n",
    "from sklearn.model_selection import train_test_split\n",
    "\n",
    "import torch\n",
    "import torch.nn as nn\n",
    "from torch.utils.data import DataLoader\n",
    "from transformers import get_cosine_schedule_with_warmup\n",
    "\n",
    "sys.path.append(\"../../run/\")\n",
    "sys.path.append(\"../../\")\n",
    "from experimet_config import Config\n",
    "from src.utils.utils import set_seed\n",
    "from src.datasets.latent_navigation_dataset import KeywordNavigationDataset\n",
    "from src.models.regressor import Regressor\n",
    "from src.models.latent_walker import WalkEffKANMulti,WalkEffKAN,WalkMlpMultiW\n",
    "from src.models.deepsdf import DeepSDF\n",
    "from src.utils.metric import regressor_criterion"
   ]
  },
  {
   "cell_type": "code",
   "execution_count": 2,
   "metadata": {},
   "outputs": [],
   "source": [
    "set_seed(42)\n",
    "cfg = Config()\n",
    "\n",
    "# loading keyword columns\n",
    "keyword_columns = cfg.keyword_attribute\n",
    "\n",
    "# loading training data\n",
    "merge_df = pd.read_csv(\"../../data/table/merged.csv\").dropna().reset_index(drop=True)\n",
    "merge_df = merge_df[~merge_df[\"folder_name\"].isin(cfg.noise_data)]\n",
    "for col in keyword_columns:\n",
    "    # 0~1にmin-max scaling\n",
    "    merge_df[col] = (merge_df[col] - merge_df[col].min()) / (\n",
    "        merge_df[col].max() - merge_df[col].min()\n",
    "    )\n",
    "\n",
    "# loading carfolder2latent_idx\n",
    "with open(\"../../outputs/data-split/carfolder2latent_idx.pickle\", \"rb\") as f:\n",
    "    carfolder2latent_idx = pickle.load(f)"
   ]
  },
  {
   "cell_type": "code",
   "execution_count": 3,
   "metadata": {},
   "outputs": [
    {
     "data": {
      "text/plain": [
       "<All keys matched successfully>"
      ]
     },
     "execution_count": 3,
     "metadata": {},
     "output_type": "execute_result"
    }
   ],
   "source": [
    "# loading latent data\n",
    "latent_codes = torch.load(\"../../outputs/latent-codes/latent_codes.pth\")\n",
    "latent_walker = WalkEffKANMulti(\n",
    "    attribute_dim=len(keyword_columns), latent_code_dim=cfg.latent_code_dim\n",
    ").to(cfg.device)\n",
    "\n",
    "latent_walker.load_state_dict(torch.load(\"../../outputs/models/keyword_walker_kan.pth\"))\n",
    "\n",
    "deepsdf = DeepSDF(\n",
    "    hidden_dim=cfg.hidden_dim,\n",
    "    xyz_pos_enc_dim=cfg.xyz_pos_enc_dim,\n",
    "    latent_code_dim=cfg.latent_code_dim,\n",
    ").to(cfg.device)\n",
    "deepsdf.load_state_dict(torch.load(\"../../outputs/models/deepsdf.pth\"))"
   ]
  },
  {
   "cell_type": "code",
   "execution_count": 4,
   "metadata": {},
   "outputs": [
    {
     "data": {
      "text/plain": [
       "id                                                                        4\n",
       "maker                                                                  Audi\n",
       "car_name                                                          Q4 e-tron\n",
       "year                                                                   2021\n",
       "engine                                                                  BEV\n",
       "country                                                                 ドイツ\n",
       "mode_url                  https://hum3d.com/ja/3d-models/audi-q4-e-tron-...\n",
       "file_name                                        Audi_Q4_e-tron_S-line_2021\n",
       "folder_name                                      004_AU_Q4_etron_Sline_2021\n",
       "Voluminous_Smart                                                   0.346418\n",
       "Powerful_Delicate                                                  0.349883\n",
       "Linear_Curvy                                                       0.514678\n",
       "Functional_Decorative                                              0.665962\n",
       "Robust_Flexible                                                    0.461669\n",
       "Calm_Dynamic                                                       0.646657\n",
       "Realistic_Romantic                                                 0.646934\n",
       "Elegant_Cute                                                       0.149684\n",
       "Sophisticated_Youthful                                             0.320984\n",
       "Luxurious_Approachable                                             0.191999\n",
       "Formal_Everyday                                                    0.181818\n",
       "Strict_Friendly                                                    0.249012\n",
       "Uniform_Free                                                       0.291398\n",
       "Special_Everyday                                                   0.220937\n",
       "Name: 2, dtype: object"
      ]
     },
     "execution_count": 4,
     "metadata": {},
     "output_type": "execute_result"
    }
   ],
   "source": [
    "edit_car_info = merge_df.iloc[0]\n",
    "edit_car_info"
   ]
  },
  {
   "cell_type": "code",
   "execution_count": 5,
   "metadata": {},
   "outputs": [
    {
     "data": {
      "application/vnd.jupyter.widget-view+json": {
       "model_id": "5260496508ea4cb5adf2e1601e85cecf",
       "version_major": 2,
       "version_minor": 0
      },
      "text/plain": [
       "interactive(children=(FloatSlider(value=3.0, description='lambda_', max=6.0, step=1.0), FloatSlider(value=0.0,…"
      ]
     },
     "metadata": {},
     "output_type": "display_data"
    }
   ],
   "source": [
    "from src.utils.mesh_utils import create_mesh\n",
    "from ipywidgets import interact_manual, FloatSlider\n",
    "\n",
    "\n",
    "latent_code = (\n",
    "    latent_codes[carfolder2latent_idx[edit_car_info[\"folder_name\"]]]\n",
    "    .reshape(1, -1)\n",
    "    .to(cfg.device)\n",
    ")\n",
    "\n",
    "base_keyword = edit_car_info[keyword_columns].values\n",
    "\n",
    "\n",
    "@interact_manual\n",
    "def create_3d(\n",
    "    lambda_=FloatSlider(value=3, min=0, max=6, step=1),\n",
    "    ボリューム感のある_スマートな=FloatSlider(value=0, min=-1, max=1, step=0.1),\n",
    "    力強い_繊細な=FloatSlider(value=0, min=-1, max=1, step=0.1),\n",
    "    直線的な_曲線的な=FloatSlider(value=0, min=-1, max=1, step=0.1),\n",
    "    機能的な_装飾的な=FloatSlider(value=0, min=-1, max=1, step=0.1),\n",
    "    堅牢な_しなやかな=FloatSlider(value=0, min=-1, max=1, step=0.1),\n",
    "    落ち着いた_躍動感のある=FloatSlider(value=0, min=-1, max=1, step=0.1),\n",
    "    現実的な_ロマンのある=FloatSlider(value=0, min=-1, max=1, step=0.1),\n",
    "    エレガントな_かわいらしい=FloatSlider(value=0, min=-1, max=1, step=0.1),\n",
    "    大人っぽい_若々しい=FloatSlider(value=0, min=-1, max=1, step=0.1),\n",
    "    高級そうな_手頃そうな=FloatSlider(value=0, min=-1, max=1, step=0.1),\n",
    "    儀礼的な_普段使いの=FloatSlider(value=0, min=-1, max=1, step=0.1),\n",
    "    厳格な_親しみやすい=FloatSlider(value=0, min=-1, max=1, step=0.1),\n",
    "    画一的な_自由な=FloatSlider(value=0, min=-1, max=1, step=0.1),\n",
    "    特別な_日常的な=FloatSlider(value=0, min=-1, max=1, step=0.1),\n",
    "):\n",
    "    # main-process\n",
    "\n",
    "    delta_keyword = np.array(\n",
    "        [\n",
    "            ボリューム感のある_スマートな,\n",
    "            力強い_繊細な,\n",
    "            直線的な_曲線的な,\n",
    "            機能的な_装飾的な,\n",
    "            堅牢な_しなやかな,\n",
    "            落ち着いた_躍動感のある,\n",
    "            現実的な_ロマンのある,\n",
    "            エレガントな_かわいらしい,\n",
    "            大人っぽい_若々しい,\n",
    "            高級そうな_手頃そうな,\n",
    "            儀礼的な_普段使いの,\n",
    "            厳格な_親しみやすい,\n",
    "            画一的な_自由な,\n",
    "            特別な_日常的な,\n",
    "        ]\n",
    "    )\n",
    "\n",
    "    edit_keyword = base_keyword + delta_keyword\n",
    "    edit_keyword = np.clip(edit_keyword, 0, 1)\n",
    "    delta = edit_keyword - base_keyword\n",
    "\n",
    "\n",
    "\n",
    "    changed_attributes = []\n",
    "    for i, change in enumerate(delta):\n",
    "        if change != 0:\n",
    "            changed_attributes.append(f\"{keyword_columns[i]}_{base_keyword[i]:.3f}_{edit_keyword[i]:.3f}\")\n",
    "\n",
    "    model_name = \"A4_keyword_kan\"\n",
    "    folder_name = model_name + \"_\" + \"_\".join(changed_attributes)\n",
    "    os.makedirs(folder_name, exist_ok=True)  # 创建子文件夹\n",
    "\n",
    "    print(\"ボリューム感のある-スマートな: \", base_keyword[0], \" => \", edit_keyword[0])\n",
    "    print(\"力強い-繊細な: \", base_keyword[1], \" => \", edit_keyword[1])\n",
    "    print(\"直線的な-曲線的な: \", base_keyword[2], \" => \", edit_keyword[2])\n",
    "    print(\"機能的な-装飾的な: \", base_keyword[3], \" => \", edit_keyword[3])\n",
    "    print(\"堅牢な-しなやかな: \", base_keyword[4], \" => \", edit_keyword[4])\n",
    "    print(\"落ち着いた-躍動感のある: \", base_keyword[5], \" => \", edit_keyword[5])\n",
    "    print(\"現実的な-ロマンのある: \", base_keyword[6], \" => \", edit_keyword[6])\n",
    "    print(\"エレガントな-かわいらしい: \", base_keyword[7], \" => \", edit_keyword[7])\n",
    "    print(\"大人っぽい-若々しい: \", base_keyword[8], \" => \", edit_keyword[8])\n",
    "    print(\"高級そうな-手頃そうな: \", base_keyword[9], \" => \", edit_keyword[9])\n",
    "    print(\"儀礼的な-普段使いの: \", base_keyword[10], \" => \", edit_keyword[10])\n",
    "    print(\"厳格な-親しみやすい: \", base_keyword[11], \" => \", edit_keyword[11])\n",
    "    print(\"画一的な-自由な: \", base_keyword[12], \" => \", edit_keyword[12])\n",
    "    print(\"特別な-日常的な: \", base_keyword[13], \" => \", edit_keyword[13])\n",
    "\n",
    "    n_divide = 2\n",
    "    file_names = [\"{}\".format(i) for i in range(n_divide)]\n",
    "    divided_delta = np.linspace(0, delta, n_divide)\n",
    "\n",
    "    for i, delta in enumerate(divided_delta):\n",
    "        delta = (\n",
    "            torch.from_numpy(delta.astype(np.float32))\n",
    "            .float()\n",
    "            .to(cfg.device)\n",
    "            .reshape(1, -1)\n",
    "        )\n",
    "        edited_latent = latent_walker(\n",
    "            latent_code, delta.to(cfg.device), lambda_=lambda_\n",
    "        )\n",
    "        edited_latent = torch.tensor(edited_latent).float().to(cfg.device)\n",
    "        create_mesh(\n",
    "            deepsdf,\n",
    "            edited_latent,\n",
    "            \"{}/{}\".format(folder_name, file_names[i]),  # Updated path,\n",
    "            N=512,\n",
    "            max_batch=80**3,\n",
    "            offset=None,\n",
    "            scale=None,\n",
    "        )\n",
    "\n",
    "    # return-process\n",
    "    return \"created 3d model!\""
   ]
  },
  {
   "cell_type": "code",
   "execution_count": null,
   "metadata": {},
   "outputs": [],
   "source": []
  }
 ],
 "metadata": {
  "kernelspec": {
   "display_name": "birdclef_2023",
   "language": "python",
   "name": "python3"
  },
  "language_info": {
   "codemirror_mode": {
    "name": "ipython",
    "version": 3
   },
   "file_extension": ".py",
   "mimetype": "text/x-python",
   "name": "python",
   "nbconvert_exporter": "python",
   "pygments_lexer": "ipython3",
   "version": "undefined.undefined.undefined"
  }
 },
 "nbformat": 4,
 "nbformat_minor": 2
}
