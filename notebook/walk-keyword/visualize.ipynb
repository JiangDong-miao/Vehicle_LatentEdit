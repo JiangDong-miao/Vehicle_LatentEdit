{
 "cells": [
  {
   "cell_type": "code",
   "execution_count": 1,
   "metadata": {},
   "outputs": [
    {
     "name": "stdout",
     "output_type": "stream",
     "text": [
      "Jupyter environment detected. Enabling Open3D WebVisualizer.\n",
      "[Open3D INFO] WebRTC GUI backend enabled.\n",
      "[Open3D INFO] WebRTCWindowSystem: HTTP handshake server disabled.\n"
     ]
    }
   ],
   "source": [
    "import open3d as o3d\n",
    "from glob import glob\n",
    "import time\n",
    "import os\n",
    "\n",
    "# # 全てのPLYファイルを読み込む\n",
    "# filepaths = glob(\"./Linear_Curvy_0.515_0.000/*.ply\")\n",
    "# # plyファイルは0~1000の番号がついているので、番号順にソートする\n",
    "# filepaths.sort(key=lambda x: int(x[2:-4]))\n",
    "\n",
    "\n",
    "\n",
    "\n",
    "# Assuming the base path is known and subfolder varies\n",
    "base_path = \"./\"  # Adjust this base path as needed\n",
    "subfolder = \"Lamborghini_keyword_mlp_Voluminous_Smart_0.597_0.000\"  # This should be set dynamically as per your situation\n",
    "pattern = os.path.join(base_path, subfolder, \"*.ply\")\n",
    "\n",
    "# Load all PLY files from the subfolder\n",
    "filepaths = glob(pattern)\n",
    "\n",
    "\n",
    "\n",
    "\n",
    "\n",
    "\n",
    "meshes = [o3d.io.read_triangle_mesh(filepath) for filepath in filepaths]\n",
    "\n",
    "\n",
    "# Open3DのVisualizerを初期化\n",
    "vis = o3d.visualization.Visualizer()\n",
    "vis.create_window()\n",
    "mesh = meshes[0]\n",
    "mesh.compute_vertex_normals()\n",
    "vis.add_geometry(mesh)\n",
    "\n",
    "current_idx = 0\n",
    "switch_interval = 2  # モデルを切り替える間隔（秒）\n",
    "last_switch_time = time.time()\n",
    "\n",
    "while True:\n",
    "    # 経過時間を監視\n",
    "    if time.time() - last_switch_time > switch_interval:\n",
    "        # 次のモデルに切り替える\n",
    "        ctr = vis.get_view_control()\n",
    "        cam_params = ctr.convert_to_pinhole_camera_parameters()\n",
    "\n",
    "        current_idx = (current_idx + 1) % len(meshes)\n",
    "        vis.remove_geometry(meshes[(current_idx - 1) % len(meshes)])\n",
    "        mesh = meshes[current_idx]\n",
    "        mesh.compute_vertex_normals()\n",
    "        vis.add_geometry(mesh)\n",
    "\n",
    "        ctr.convert_from_pinhole_camera_parameters(cam_params)\n",
    "\n",
    "        last_switch_time = time.time()\n",
    "\n",
    "    # 描画を更新\n",
    "    vis.poll_events()\n",
    "    vis.update_renderer()\n",
    "\n",
    "    # すべてのモデルを表示したら終了\n",
    "    # if current_idx == 0:\n",
    "    #    break"
   ]
  },
  {
   "cell_type": "code",
   "execution_count": null,
   "metadata": {},
   "outputs": [],
   "source": []
  }
 ],
 "metadata": {
  "kernelspec": {
   "display_name": "birdclef_2023",
   "language": "python",
   "name": "python3"
  },
  "language_info": {
   "codemirror_mode": {
    "name": "ipython",
    "version": 3
   },
   "file_extension": ".py",
   "mimetype": "text/x-python",
   "name": "python",
   "nbconvert_exporter": "python",
   "pygments_lexer": "ipython3",
   "version": "undefined.undefined.undefined"
  }
 },
 "nbformat": 4,
 "nbformat_minor": 2
}
