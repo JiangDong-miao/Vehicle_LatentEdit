{
 "cells": [
  {
   "cell_type": "code",
   "execution_count": 1,
   "metadata": {},
   "outputs": [],
   "source": [
    "import os\n",
    "import sys\n",
    "import pickle\n",
    "import numpy as np\n",
    "import pandas as pd\n",
    "import matplotlib.pyplot as plt\n",
    "from glob import glob\n",
    "\n",
    "import torch\n",
    "import torch.nn as nn\n",
    "import torch.nn.functional as F\n",
    "\n",
    "sys.path.append(\"../src/SpaceMAP/\")\n",
    "from _spacemap import SpaceMAP\n",
    "\n",
    "sys.path.append(\"../run/\")\n",
    "from experimet_config import Config\n",
    "\n",
    "cfg = Config()"
   ]
  },
  {
   "cell_type": "code",
   "execution_count": 2,
   "metadata": {},
   "outputs": [],
   "source": [
    "use_columns = ['id', 'file_name', 'folder_name']\n",
    "merged_df = pd.read_csv('../data/table/merged.csv')[use_columns].dropna().reset_index(drop=True)\n",
    "\n",
    "geometry_df = pd.read_excel('../data/table/geometry.xlsx', index_col=0).T.reset_index().rename(columns={'index': 'file_name'})\n",
    "\n",
    "merged_df = pd.merge(merged_df, geometry_df, on='file_name', how='left').dropna().reset_index(drop=True)"
   ]
  },
  {
   "cell_type": "code",
   "execution_count": 3,
   "metadata": {},
   "outputs": [],
   "source": [
    "geometry_array = merged_df[cfg.geometry_attribute].values\n",
    "img_paths = [f'../../../data/img/{i}.jpg' for i in merged_df['folder_name'].values]"
   ]
  },
  {
   "cell_type": "code",
   "execution_count": 7,
   "metadata": {},
   "outputs": [
    {
     "data": {
      "text/plain": [
       "\"\\n# 4. SpaceMAP\\nspacemap = SpaceMAP(verbose=False)\\nreduced_latent_codes = spacemap.fit_transform(geometry_array)\\nnp.save('../outputs/decompose-analysis/geometry/reduced_geometry-spaceMAP.npy', reduced_latent_codes)\\n\""
      ]
     },
     "execution_count": 7,
     "metadata": {},
     "output_type": "execute_result"
    }
   ],
   "source": [
    "# let's see the decomposed latent space\n",
    "\n",
    "# 1. PCA\n",
    "from sklearn.decomposition import PCA\n",
    "pca = PCA(n_components=2)\n",
    "reduced_latent_codes = pca.fit_transform(geometry_array)\n",
    "np.save('../outputs/decompose-analysis/geometry/reduced_geometry-PCA.npy', reduced_latent_codes)\n",
    "\n",
    "# 2. tSNE\n",
    "from sklearn.manifold import TSNE\n",
    "tsne = TSNE(n_components=2, perplexity=30.0, n_iter=1000)\n",
    "reduced_latent_codes = tsne.fit_transform(geometry_array)\n",
    "np.save('../outputs/decompose-analysis/geometry/reduced_geometry-tSNE.npy', reduced_latent_codes)\n",
    "\n",
    "# 3. UMAP\n",
    "from umap import UMAP\n",
    "umap = UMAP(n_neighbors=15, min_dist=0.1, metric='euclidean')\n",
    "reduced_latent_codes = umap.fit_transform(geometry_array)\n",
    "np.save('../outputs/decompose-analysis/geometry/reduced_geometry-UMAP.npy', reduced_latent_codes)\n",
    "\n",
    "\"\"\"\n",
    "# 4. SpaceMAP\n",
    "spacemap = SpaceMAP(verbose=False)\n",
    "reduced_latent_codes = spacemap.fit_transform(geometry_array)\n",
    "np.save('../outputs/decompose-analysis/geometry/reduced_geometry-spaceMAP.npy', reduced_latent_codes)\n",
    "\"\"\""
   ]
  },
  {
   "cell_type": "code",
   "execution_count": 8,
   "metadata": {},
   "outputs": [
    {
     "name": "stderr",
     "output_type": "stream",
     "text": [
      "/tmp/ipykernel_29346/4067847063.py:55: UserWarning: save() called but no resources were supplied and output_file(...) was never called, defaulting to resources.CDN\n",
      "  save(plot_figure, '../outputs/decompose-analysis/geometry/geometry-mapping-{}.html'.format(method))\n",
      "/tmp/ipykernel_29346/4067847063.py:55: UserWarning: save() called but no title was supplied and output_file(...) was never called, using default title 'Bokeh Plot'\n",
      "  save(plot_figure, '../outputs/decompose-analysis/geometry/geometry-mapping-{}.html'.format(method))\n",
      "/tmp/ipykernel_29346/4067847063.py:55: UserWarning: save() called but no resources were supplied and output_file(...) was never called, defaulting to resources.CDN\n",
      "  save(plot_figure, '../outputs/decompose-analysis/geometry/geometry-mapping-{}.html'.format(method))\n",
      "/tmp/ipykernel_29346/4067847063.py:55: UserWarning: save() called but no title was supplied and output_file(...) was never called, using default title 'Bokeh Plot'\n",
      "  save(plot_figure, '../outputs/decompose-analysis/geometry/geometry-mapping-{}.html'.format(method))\n",
      "/tmp/ipykernel_29346/4067847063.py:55: UserWarning: save() called but no resources were supplied and output_file(...) was never called, defaulting to resources.CDN\n",
      "  save(plot_figure, '../outputs/decompose-analysis/geometry/geometry-mapping-{}.html'.format(method))\n",
      "/tmp/ipykernel_29346/4067847063.py:55: UserWarning: save() called but no title was supplied and output_file(...) was never called, using default title 'Bokeh Plot'\n",
      "  save(plot_figure, '../outputs/decompose-analysis/geometry/geometry-mapping-{}.html'.format(method))\n"
     ]
    }
   ],
   "source": [
    "from bokeh.plotting import figure, show, output_notebook\n",
    "from bokeh.models import HoverTool, ColumnDataSource, CategoricalColorMapper\n",
    "\n",
    "methods = [\n",
    "    # 'spaceMAP',\n",
    "    'UMAP',\n",
    "    'PCA',\n",
    "    'tSNE',\n",
    "]\n",
    "\n",
    "for method in methods:\n",
    "    reduced_latent_codes = np.load(f'../outputs/decompose-analysis/geometry/reduced_geometry-{method}.npy')\n",
    "\n",
    "    digits_df = pd.DataFrame(reduced_latent_codes, columns=['x', 'y'])\n",
    "    digits_df['image'] = img_paths\n",
    "    digits_df['digit'] = digits_df['image'].apply(lambda x: x.split('/')[-1].split('.')[0])\n",
    "\n",
    "    datasource = ColumnDataSource(digits_df)\n",
    "\n",
    "    #color_mapping = CategoricalColorMapper(factors=[str(9 - x) for x in digits.target_names],\n",
    "    #                                       palette=Spectral10)\n",
    "\n",
    "    plot_figure = figure(\n",
    "        title='{} projection of the Digits dataset'.format(method),\n",
    "        outer_width=600,\n",
    "        outer_height=600,\n",
    "        tools=('pan, wheel_zoom, reset')\n",
    "    )\n",
    "\n",
    "    plot_figure.add_tools(HoverTool(tooltips=\"\"\"\n",
    "    <div>\n",
    "        <div>\n",
    "            <img src='@image' style='float: left; margin: 5px 5px 5px 5px; width:300px;'/>\n",
    "        </div>\n",
    "        <div>\n",
    "            <span style='font-size: 16px; color: #224499'>Digit:</span>\n",
    "            <span style='font-size: 18px'>@digit</span>\n",
    "        </div>\n",
    "    </div>\n",
    "    \"\"\"))\n",
    "\n",
    "    plot_figure.circle(\n",
    "        'x',\n",
    "        'y',\n",
    "        source=datasource,\n",
    "        # color=dict(field='digit', transform=color_mapping),\n",
    "        line_alpha=0.6,\n",
    "        fill_alpha=0.6,\n",
    "        size=4\n",
    "    )\n",
    "    show(plot_figure)\n",
    "\n",
    "    from bokeh.io import save\n",
    "\n",
    "    save(plot_figure, '../outputs/decompose-analysis/geometry/geometry-mapping-{}.html'.format(method))"
   ]
  },
  {
   "cell_type": "code",
   "execution_count": null,
   "metadata": {},
   "outputs": [],
   "source": []
  }
 ],
 "metadata": {
  "kernelspec": {
   "display_name": "birdclef_2023",
   "language": "python",
   "name": "python3"
  },
  "language_info": {
   "codemirror_mode": {
    "name": "ipython",
    "version": 3
   },
   "file_extension": ".py",
   "mimetype": "text/x-python",
   "name": "python",
   "nbconvert_exporter": "python",
   "pygments_lexer": "ipython3",
   "version": "3.8.16"
  }
 },
 "nbformat": 4,
 "nbformat_minor": 2
}
